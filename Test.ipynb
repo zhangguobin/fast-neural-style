{
 "cells": [
  {
   "cell_type": "code",
   "execution_count": null,
   "metadata": {},
   "outputs": [],
   "source": [
    "import tensorflow as tf\n",
    "tf.enable_eager_execution()\n",
    "import numpy as np\n",
    "from scipy.misc import imread, imresize\n",
    "import matplotlib.pyplot as plt\n",
    "\n",
    "%matplotlib inline"
   ]
  },
  {
   "cell_type": "code",
   "execution_count": null,
   "metadata": {
    "scrolled": true
   },
   "outputs": [],
   "source": [
    "import numpy as np\n",
    "from tensorflow.keras.preprocessing import image\n",
    "from tensorflow.keras.applications.vgg16 import preprocess_input\n",
    "from modules.Transformer import Transformer\n",
    "\n",
    "from matplotlib.pyplot import figure\n",
    "figure(num=None, figsize=(8, 8), dpi=80, facecolor='w', edgecolor='k')\n",
    "\n",
    "model = Transformer(instanceNorm=True)\n",
    "logdir = 'candy.jpglr0.001c7.5s100.0tv0.0002'\n",
    "model.load_weights(logdir+'/ckp')\n",
    "\n",
    "test_img_path = 'examples/contents/hoovertowernight.jpg'\n",
    "img = image.load_img(test_img_path, target_size=(512, 512))\n",
    "orig_img = image.img_to_array(img)\n",
    "orig_img_4d = np.expand_dims(orig_img, axis=0)\n",
    "orig_img_norm = preprocess_input(orig_img_4d)\n",
    "pred_img = model.predict(orig_img_norm)\n",
    "pred_img_restore = ((pred_img + 1) / 2 * 256).astype(np.uint8)\n",
    "plt.imshow(pred_img_restore[0][..., ::-1])"
   ]
  },
  {
   "cell_type": "code",
   "execution_count": null,
   "metadata": {},
   "outputs": [],
   "source": [
    "from scipy.misc import imsave\n",
    "imsave('hoovertowernight_candy.jpg', pred_img_restore[0][..., ::-1])"
   ]
  },
  {
   "cell_type": "code",
   "execution_count": null,
   "metadata": {},
   "outputs": [],
   "source": [
    "def gram_matrix(features, normalize=True):\n",
    "    \"\"\"\n",
    "    Compute the Gram matrix from features.\n",
    "    \n",
    "    Inputs:\n",
    "    - features: Tensor of shape (N, H, W, C) giving features for\n",
    "      N images.\n",
    "    - normalize: optional, whether to normalize the Gram matrix\n",
    "        If True, divide the Gram matrix by the number of neurons (H * W * C)\n",
    "        H = tf.getshape(features)[1]\n",
    "    Returns:\n",
    "    - gram: Tensor of shape (N, C, C) giving the (optionally normalized)\n",
    "      Gram matrices for the input images.\n",
    "    \"\"\"\n",
    "    N, H, W, C = tf.shape(features)\n",
    "    if normalize is True:\n",
    "        features /= tf.sqrt(tf.cast(H*W*C, features.dtype))\n",
    "    features = tf.reshape(features, (N,-1,C))\n",
    "    features_T = tf.transpose(features, (0,2,1))\n",
    "    grams = tf.matmul(features_T, features)\n",
    "    return grams"
   ]
  },
  {
   "cell_type": "code",
   "execution_count": null,
   "metadata": {},
   "outputs": [],
   "source": [
    "imgs = np.random.random((4,50,50,3))\n",
    "\n",
    "prod = 50.0*50.0*3.0\n",
    "A = np.reshape(imgs[1], (-1,3)) / np.sqrt(prod)\n",
    "A_gram = np.matmul(A.T, A)\n",
    "\n",
    "B = np.reshape(imgs[0], (-1,3)) / np.sqrt(prod)\n",
    "B_gram = np.matmul(B.T, B)\n",
    "\n",
    "# imgs_3d = np.reshape(imgs, (4, -1, 3))\n",
    "# np_results = np.matmul(np.transpose(imgs_3d, [0,2,1]), imgs_3d)\n",
    "# print(np.sum(np.abs(np_results[1] - A_gram)))\n",
    "# print(np.sum(np.abs(np_results[0] - B_gram)))\n",
    "\n",
    "# imgs_3d_T = np.transpose(imgs_3d, [0,2,1])\n",
    "# print(np.sum(B.T - imgs_3d_T[0]))\n",
    "# print(np.sum(A.T - imgs_3d_T[1]))\n",
    "\n",
    "results = gram_matrix(imgs, normalize=True)\n",
    "\n",
    "# print(np.sum(results - np_results))\n",
    "print(np.sum(np.abs(results[1] - A_gram)))\n",
    "print(np.sum(np.abs(results[0] - B_gram)))"
   ]
  },
  {
   "cell_type": "code",
   "execution_count": null,
   "metadata": {},
   "outputs": [],
   "source": [
    "from tensorflow.keras.applications.vgg16 import VGG16\n",
    "from tensorflow.keras.preprocessing import image\n",
    "from tensorflow.keras.applications.vgg16 import preprocess_input\n",
    "import os\n",
    "\n",
    "style_layers = ['block1_conv2', 'block2_conv2',\n",
    "                'block3_conv3', 'block4_conv3']\n",
    "\n",
    "content_layers = ['block3_conv3']\n",
    "\n",
    "vgg_model = VGG16(weights='imagenet', include_top=False)\n",
    "\n",
    "content_feats = [vgg_model.get_layer(name).output for name in content_layers]\n",
    "style_feats = [vgg_model.get_layer(name).output for name in style_layers]\n",
    "vgg_model_x = tf.keras.Model(inputs=vgg_model.input,\n",
    "                             outputs=(content_feats+style_feats))\n",
    "\n",
    "style_img_path = 'datasets/styles/starry_night_crop.png'\n",
    "img = image.load_img(style_img_path, target_size=(256, 256))\n",
    "x = image.img_to_array(img)\n",
    "x = np.expand_dims(x, axis=0)\n",
    "x = preprocess_input(x)\n",
    "\n",
    "style_feats = vgg_model_x.predict(x)"
   ]
  },
  {
   "cell_type": "code",
   "execution_count": null,
   "metadata": {},
   "outputs": [],
   "source": [
    "for i in np.arange(1,5):\n",
    "    N, H, W, C = np.shape(style_feats[i])\n",
    "    norm = np.sqrt(float(H*W*C))\n",
    "    print(N, H, W, C)\n",
    "    A = np.reshape(style_feats[i][0], (-1, C)) / norm\n",
    "    A_gram = np.matmul(A.T, A)\n",
    "    \n",
    "    results = gram_matrix(style_feats[i])\n",
    "    print(i)\n",
    "\n",
    "    print(np.sum(np.abs(results[0] - A_gram)))  "
   ]
  },
  {
   "cell_type": "code",
   "execution_count": null,
   "metadata": {},
   "outputs": [],
   "source": [
    "import matplotlib.pyplot as plt\n",
    "from tensorflow.keras.preprocessing import image\n",
    "\n",
    "\n",
    "style_img_path = 'datasets/styles/starry_night.jpg'\n",
    "img = image.load_img(style_img_path, target_size=(256, 256))\n",
    "plt.imshow(img)"
   ]
  },
  {
   "cell_type": "code",
   "execution_count": null,
   "metadata": {},
   "outputs": [],
   "source": [
    "test_img_path = 'datasets/examples/tubingen.jpg'\n",
    "img = image.load_img(test_img_path)\n",
    "orig_img = image.img_to_array(img)\n",
    "orig_img_4d = np.expand_dims(orig_img, axis=0)\n",
    "orig_img_norm = preprocess_input(orig_img_4d)\n",
    "pred_img = model.predict(orig_img_norm)\n",
    "pred_img_restore = ((pred_img[-1] + 1) / 2 * 256).astype(np.uint8)\n",
    "plt.imshow(pred_img_restore[0][..., ::-1])"
   ]
  }
 ],
 "metadata": {
  "kernelspec": {
   "display_name": "Python 3",
   "language": "python",
   "name": "python3"
  },
  "language_info": {
   "codemirror_mode": {
    "name": "ipython",
    "version": 3
   },
   "file_extension": ".py",
   "mimetype": "text/x-python",
   "name": "python",
   "nbconvert_exporter": "python",
   "pygments_lexer": "ipython3",
   "version": "3.5.2"
  }
 },
 "nbformat": 4,
 "nbformat_minor": 2
}
